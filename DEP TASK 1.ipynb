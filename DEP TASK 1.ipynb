{
 "cells": [
  {
   "cell_type": "code",
   "execution_count": 3,
   "metadata": {},
   "outputs": [],
   "source": [
    "class student:\n",
    "    def __init__(self,a,r,g=0,m1=0,m2=0,m3=0):\n",
    "        self.age=a\n",
    "        self.rollno=r\n",
    "        self.GPA=g\n",
    "        self.marks1=m1\n",
    "        self.marks2=m2\n",
    "        self.marks3=m3\n",
    "\n",
    "    def percentage(self,ms1,ms2,ms3):\n",
    "        self.marks1=ms1\n",
    "        self.marks2=ms2\n",
    "        self.marks3=ms3\n",
    "        percentage=((self.marks1+self.marks2+self.marks3)/300)*100\n",
    "        return percentage\n",
    "    def grade(self,ms1,ms2,ms3):\n",
    "        p=self.percentage(ms1,ms2,ms3)"
   ]
  },
  {
   "cell_type": "code",
   "execution_count": null,
   "metadata": {},
   "outputs": [],
   "source": []
  }
 ],
 "metadata": {
  "kernelspec": {
   "display_name": "Python 3",
   "language": "python",
   "name": "python3"
  },
  "language_info": {
   "codemirror_mode": {
    "name": "ipython",
    "version": 3
   },
   "file_extension": ".py",
   "mimetype": "text/x-python",
   "name": "python",
   "nbconvert_exporter": "python",
   "pygments_lexer": "ipython3",
   "version": "3.11.9"
  }
 },
 "nbformat": 4,
 "nbformat_minor": 2
}
